{
 "cells": [
  {
   "cell_type": "markdown",
   "metadata": {},
   "source": [
    "# 1. Write the following expressions using the list comprehension"
   ]
  },
  {
   "cell_type": "code",
   "execution_count": 1,
   "metadata": {},
   "outputs": [
    {
     "name": "stdout",
     "output_type": "stream",
     "text": [
      "[(0, 0), (0, 1), (0, 2), (0, 3), (1, 0), (1, 1), (1, 2), (1, 3), (2, 0), (2, 1), (2, 2), (2, 3)]\n",
      "[1, 9, 25, 49, 81]\n"
     ]
    }
   ],
   "source": [
    "# 1\n",
    "ans = []\n",
    "for i in range(3):\n",
    "    for j in range(4):\n",
    "        ans.append((i, j))\n",
    "print(ans)\n",
    "\n",
    "# 2\n",
    "ans = map(lambda x: x * x, filter(lambda x: x % 2 == 1, range(10)))\n",
    "print(list(ans))"
   ]
  },
  {
   "cell_type": "code",
   "execution_count": 4,
   "metadata": {},
   "outputs": [
    {
     "name": "stdout",
     "output_type": "stream",
     "text": [
      "[(0, 0), (0, 1), (0, 2), (0, 3), (1, 0), (1, 1), (1, 2), (1, 3), (2, 0), (2, 1), (2, 2), (2, 3)]\n",
      "[1, 9, 25, 49, 81]\n"
     ]
    }
   ],
   "source": [
    "# 1 \n",
    "list = [(x,y) for x in range(3) for y in range(4)]\n",
    "print(list)\n",
    "\n",
    "#2 \n",
    "list2 = [x*x for x in range(10) if x % 2 ==1]\n",
    "print(list2)"
   ]
  },
  {
   "cell_type": "markdown",
   "metadata": {},
   "source": [
    "# 2\\. Convert the function $f$ into a function that doesn't use global variables and that does not modify the original list"
   ]
  },
  {
   "cell_type": "code",
   "execution_count": 5,
   "metadata": {},
   "outputs": [
    {
     "name": "stdout",
     "output_type": "stream",
     "text": [
      "[1, 2, 3, 0, 1, 2, 3, 4]\n",
      "[1, 2, 3, 0, 1, 2, 3, 4]\n"
     ]
    }
   ],
   "source": [
    "x = 5\n",
    "def f(alist):\n",
    "    for i in range(x):\n",
    "         alist.append(i)\n",
    "    return alist\n",
    "\n",
    "alist = [1,2,3]\n",
    "ans = f(alist)\n",
    "print(ans)\n",
    "print(alist) # alist has been changed!"
   ]
  },
  {
   "cell_type": "code",
   "execution_count": 7,
   "metadata": {},
   "outputs": [
    {
     "name": "stdout",
     "output_type": "stream",
     "text": [
      "[1, 2, 3, 0, 1, 2, 3, 4]\n",
      "[1, 2, 3]\n"
     ]
    }
   ],
   "source": [
    "# soluzione 1: conversione in tupla\n",
    "\n",
    "def f(x, alist):\n",
    "    alist2=list(tuple(alist))\n",
    "    for i in range(x):\n",
    "        alist2.append(i)\n",
    "    return alist2\n",
    "\n",
    "y=5\n",
    "alist = [1,2,3]\n",
    "ans = f(y, alist)\n",
    "print(ans)\n",
    "print(alist)\n"
   ]
  },
  {
   "cell_type": "code",
   "execution_count": 7,
   "metadata": {},
   "outputs": [
    {
     "name": "stdout",
     "output_type": "stream",
     "text": [
      "[1, 2, 3, 0, 1, 2, 3, 4]\n",
      "[1, 2, 3]\n"
     ]
    }
   ],
   "source": [
    "#soluzione 2: copy\n",
    "\n",
    "def f(x, alist):\n",
    "    alist2 = alist.copy()\n",
    "    for i in range(x):\n",
    "        alist2.append(i)\n",
    "    return alist2\n",
    "\n",
    "y=5\n",
    "alist = [1,2,3]\n",
    "ans = f(y, alist)\n",
    "print(ans)\n",
    "print(alist)"
   ]
  },
  {
   "cell_type": "markdown",
   "metadata": {},
   "source": [
    "# 3\\. Write a `decorator` hello that makes every wrapped function print “Hello!”, i.e. something like:\n",
    "\n",
    "```python\n",
    "@hello\n",
    "def square(x):\n",
    "    return x*x\n",
    "```\n",
    "\n"
   ]
  },
  {
   "cell_type": "code",
   "execution_count": 13,
   "metadata": {},
   "outputs": [
    {
     "name": "stdout",
     "output_type": "stream",
     "text": [
      "Hello!\n"
     ]
    }
   ],
   "source": [
    "def hello(func):\n",
    "    def wrapper(x):\n",
    "        print(\"Hello!\")\n",
    "        func(x)\n",
    "    return wrapper\n",
    "\n",
    "@hello\n",
    "def square(x):\n",
    "    return x*x\n",
    "\n",
    "square(3)"
   ]
  },
  {
   "cell_type": "markdown",
   "metadata": {},
   "source": [
    "# 4\\. Write the factorial function in two different ways, so that it a) does and b) does not use recursion."
   ]
  },
  {
   "cell_type": "code",
   "execution_count": 13,
   "metadata": {},
   "outputs": [
    {
     "name": "stdout",
     "output_type": "stream",
     "text": [
      "[1, 1, 2, 6, 24, 120]\n"
     ]
    }
   ],
   "source": [
    "# a) modo ricorsivo \n",
    "\n",
    "def prod(x):\n",
    "    if x==1 or x==0: return 1\n",
    "    else : return x*prod(x-1)\n",
    "\n",
    "print([prod(y) for y in range(6)])\n"
   ]
  },
  {
   "cell_type": "code",
   "execution_count": 8,
   "metadata": {},
   "outputs": [
    {
     "name": "stdout",
     "output_type": "stream",
     "text": [
      "[1, 1, 2, 6, 24, 120]\n",
      "[1, 1, 2, 6, 24, 120]\n"
     ]
    }
   ],
   "source": [
    "# b) modo non ricorsivo \n",
    "\n",
    "def prod(x):\n",
    "    prod=1\n",
    "    for i in range(1,x+1):\n",
    "        prod*=i\n",
    "    return prod\n",
    "\n",
    "print([prod(y) for y in range(6)])\n",
    "\n",
    "\n",
    "#---------------------------------------------------------\n",
    "# soluzione 2:\n",
    "from functools import reduce\n",
    "\n",
    "def prod(x):\n",
    "    if x==0 : return 1\n",
    "    else: return reduce(lambda y,z: y*z, list(range(1,x+1)) )\n",
    "    \n",
    "\n",
    "print([prod(y) for y in range(6)])\n"
   ]
  },
  {
   "cell_type": "markdown",
   "metadata": {},
   "source": [
    "# 5\\. HOF\n",
    "Use HOFs (zip in particular) to compute the weight of a circle, a disk and a sphere, assuming different radii and different densities:\n",
    "\n",
    "```python\n",
    "densities = {\"Al\" : [0.5, 1, 2], \"Fe\" : [3, 4, 5], \"Pb\" : [15, 20, 30]}\n",
    "radii = [1, 2, 3]\n",
    "```\n",
    "\n",
    "where the entries of the dictionary's values are the linear, superficial and volumetric densities of the materials respectively.\n",
    "\n",
    "Subsequently, define a list using a comprehension with three lambda functions that compute the circumference, the area and the volume for a given radius.\n"
   ]
  },
  {
   "cell_type": "code",
   "execution_count": 12,
   "metadata": {},
   "outputs": [
    {
     "name": "stdout",
     "output_type": "stream",
     "text": [
      "\n",
      "Al\n",
      "3.141592653589793\n",
      "12.566370614359172\n",
      "226.19467105846508\n",
      "\n",
      "Fe\n",
      "18.84955592153876\n",
      "50.26548245743669\n",
      "565.4866776461627\n",
      "\n",
      "Pb\n",
      "94.24777960769379\n",
      "251.32741228718345\n",
      "3392.920065876976\n",
      "\n",
      " lista:\n",
      "[18.84955592153876, 28.274333882308138, 113.09733552923254]\n"
     ]
    }
   ],
   "source": [
    "from math import pi \n",
    "\n",
    "densities = {\"Al\" : [0.5, 1, 2], \"Fe\" : [3, 4, 5], \"Pb\" : [15, 20, 30]}\n",
    "radii = [1, 2, 3]\n",
    "\n",
    "def cir(r,d):\n",
    "    return 2*pi*r*d\n",
    "\n",
    "def disc(r,d):\n",
    "    return pi*r**2*d\n",
    "\n",
    "def sph(r,d):\n",
    "    return 4/3*pi*r**3*d\n",
    "\n",
    "funzioni=[cir,disc, sph]\n",
    "\n",
    "    \n",
    "for x in densities :\n",
    "    print(\"\\n\"+x)\n",
    "    for f,r,d in zip(funzioni,radii,densities[x]):\n",
    "        print(f(r,d))\n",
    "        \n",
    "        \n",
    "#list con circonferenza, area e volume dato un raggio ex. radii[2]=3       \n",
    "lista= [f(radii[2]) for f in (lambda r: 2*pi*r, lambda r: pi*r**2, lambda r: 4/3*pi*r**3)]\n",
    "print(\"\\n lista:\")\n",
    "print(lista)"
   ]
  },
  {
   "cell_type": "markdown",
   "metadata": {},
   "source": [
    "# 6\\. Class\n",
    "Edit the class defintion to add an instance attribute of `is_hungry = True` to the Dog class. Then add a method called `eat()` which changes the value of `is_hungry` to `False` when called. Figure out the best way to instantiate the dog objects and to feed the dogs, e.g. call the `eat()` method for all instances. Finally, print “My dogs are hungry.” or “My dogs are not hungry.” if all of them have `is_hungry = True` or `False`, respectively. The final output should look like this:\n",
    "\n",
    "`I have 3 dogs. \n",
    "Tom is 6. \n",
    "Fletcher is 7. \n",
    "Larry is 9. \n",
    "And they're all mammals, of course. \n",
    "My dogs are not hungry.\n",
    "`\n",
    "\n",
    "```python\n",
    "# Parent class\n",
    "class Dog:\n",
    "\n",
    "    # Class attribute\n",
    "    species = 'mammal'\n",
    "\n",
    "    # Initializer / Instance attributes\n",
    "    def __init__(self, name, age):\n",
    "        self.name = name\n",
    "        self.age = age\n",
    "\n",
    "    # instance method\n",
    "    def description(self):\n",
    "        return \"{} is {} years old\".format(self.name, self.age)\n",
    "\n",
    "    # instance method\n",
    "    def speak(self, sound):\n",
    "        return \"{} says {}\".format(self.name, sound)\n",
    "\n",
    "# Child class (inherits from Dog class)\n",
    "class RussellTerrier(Dog):\n",
    "    def run(self, speed):\n",
    "        return \"{} runs {}\".format(self.name, speed)\n",
    "\n",
    "# Child class (inherits from Dog class)\n",
    "class Bulldog(Dog):\n",
    "    def run(self, speed):\n",
    "        return \"{} runs {}\".format(self.name, speed)\n",
    "```"
   ]
  },
  {
   "cell_type": "code",
   "execution_count": 14,
   "metadata": {},
   "outputs": [
    {
     "name": "stdout",
     "output_type": "stream",
     "text": [
      "I have 3 dogs.\n",
      "Tom is 6.\n",
      "Fletcher is 7.\n",
      "Larry is 9.\n",
      "My dogs are not hungry.\n"
     ]
    }
   ],
   "source": [
    "from functools import reduce\n",
    "\n",
    "\n",
    "# Parent class\n",
    "class Dog:\n",
    "\n",
    "    # Class attribute\n",
    "    species = 'mammal'\n",
    "    is_hungry=True\n",
    "\n",
    "    # Initializer / Instance attributes\n",
    "    def __init__(self, name, age):\n",
    "        self.name = name\n",
    "        self.age = age\n",
    "\n",
    "    # instance method\n",
    "    def description(self):\n",
    "        return \"{} is {} years old\".format(self.name, self.age)\n",
    "\n",
    "    # instance method\n",
    "    def speak(self, sound):\n",
    "        return \"{} says {}\".format(self.name, sound)\n",
    "    \n",
    "    # feed the dogs\n",
    "    def eat(self):\n",
    "        self.is_hungry=False\n",
    "\n",
    "# Child class (inherits from Dog class)\n",
    "class RussellTerrier(Dog):\n",
    "    def run(self, speed):\n",
    "        return \"{} runs {}\".format(self.name, speed)\n",
    "\n",
    "# Child class (inherits from Dog class)\n",
    "class Bulldog(Dog):\n",
    "    def run(self, speed):\n",
    "        return \"{} runs {}\".format(self.name, speed)\n",
    "    \n",
    "    \n",
    "    \n",
    "    \n",
    "#inizializzazione degli oggetti e metodo eat   \n",
    "\n",
    "nomi=(\"Tom\",\"Fletcher\",\"Larry\")\n",
    "eta=(6,7,9)\n",
    "cani= [Dog(n,e) for n,e in zip(nomi,eta)]\n",
    "\n",
    "for cane in cani: cane.eat()\n",
    "\n",
    "\n",
    "#Stampa informazioni\n",
    "\n",
    "print(\"I have 3 dogs.\")\n",
    "for cane in cani:\n",
    "    print(cane.name+\" is \"+str(cane.age)+\".\")\n",
    "\n",
    "hungry = reduce(lambda b1,b2: b1+b2, [cane.is_hungry for cane in cani])\n",
    "if hungry==0 :\n",
    "    print(\"My dogs are not hungry.\")\n",
    "elif hungry== len(cani):\n",
    "    print(\"My dogs are hungry.\")\n",
    "else : print(\"Some are hungry and some not.\")\n",
    "\n",
    "\n",
    "\n"
   ]
  },
  {
   "cell_type": "code",
   "execution_count": null,
   "metadata": {},
   "outputs": [],
   "source": []
  }
 ],
 "metadata": {
  "kernelspec": {
   "display_name": "Python 3 (ipykernel)",
   "language": "python",
   "name": "python3"
  },
  "language_info": {
   "codemirror_mode": {
    "name": "ipython",
    "version": 3
   },
   "file_extension": ".py",
   "mimetype": "text/x-python",
   "name": "python",
   "nbconvert_exporter": "python",
   "pygments_lexer": "ipython3",
   "version": "3.9.7"
  }
 },
 "nbformat": 4,
 "nbformat_minor": 2
}

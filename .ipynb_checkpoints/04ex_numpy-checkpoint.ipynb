{
 "cells": [
  {
   "cell_type": "markdown",
   "metadata": {},
   "source": [
    "# 1\\. \n",
    "Find the total mean, and the mean for each row and column of the following matrix:\n",
    "\n",
    "```python\n",
    "m = np.arange(12).reshape((3,4))\n",
    "```"
   ]
  },
  {
   "cell_type": "code",
   "execution_count": 5,
   "metadata": {},
   "outputs": [
    {
     "name": "stdout",
     "output_type": "stream",
     "text": [
      "Total mean= 5.5\n",
      "Columns mean= [4. 5. 6. 7.]\n",
      "Rows mean= [1.5 5.5 9.5]\n"
     ]
    }
   ],
   "source": [
    "import numpy as np\n",
    "\n",
    "m=np.arange(12).reshape((3,4))\n",
    "\n",
    "print(\"Total mean= \", end=\"\")  #media totale\n",
    "print(np.mean(m))\n",
    "\n",
    "print(\"Columns mean= \", end=\"\")\n",
    "print(np.mean(m,axis=0))  #media delle colonne\n",
    "\n",
    "print(\"Rows mean= \", end=\"\")\n",
    "print(np.mean(m, axis=1))  #media delle righe\n"
   ]
  },
  {
   "cell_type": "markdown",
   "metadata": {},
   "source": [
    "# 2\\. \n",
    "Find the outer product of the following vectors:\n",
    "\n",
    "```python\n",
    "u = np.array([1, 3, 5, 7])\n",
    "v = np.array([2, 4, 6, 8])\n",
    "```\n",
    "\n",
    "Use different methods to do this:\n",
    "\n",
    "   1. Using the function `outer` in numpy\n",
    "   2. Using a nested `for` loop or a list comprehension\n",
    "   3. Using numpy broadcasting operations"
   ]
  },
  {
   "cell_type": "code",
   "execution_count": 2,
   "metadata": {},
   "outputs": [
    {
     "name": "stdout",
     "output_type": "stream",
     "text": [
      "[[ 2  4  6  8]\n",
      " [ 6 12 18 24]\n",
      " [10 20 30 40]\n",
      " [14 28 42 56]]\n",
      "\n",
      "[[ 2.  4.  6.  8.]\n",
      " [ 6. 12. 18. 24.]\n",
      " [10. 20. 30. 40.]\n",
      " [14. 28. 42. 56.]]\n",
      "\n",
      "[[ 2  4  6  8]\n",
      " [ 6 12 18 24]\n",
      " [10 20 30 40]\n",
      " [14 28 42 56]]\n",
      "\n",
      "[[ 2  6 10 14]\n",
      " [ 4 12 20 28]\n",
      " [ 6 18 30 42]\n",
      " [ 8 24 40 56]]\n"
     ]
    }
   ],
   "source": [
    "import numpy as np\n",
    "\n",
    "u = np.array([1, 3, 5, 7])\n",
    "v = np.array([2, 4, 6, 8])\n",
    "\n",
    "# 1)-------------------------------\n",
    "print(np.outer(u,v), end=\"\\n\\n\")\n",
    "\n",
    "# 2a)---------------------------------\n",
    "prod=np.zeros((4,4))\n",
    "for i in range(4) :\n",
    "    for j in range(4):\n",
    "        prod[i,j]=u[i]*v[j]\n",
    "print(prod, end=\"\\n\\n\")\n",
    "\n",
    "# 2b)---------------------------------\n",
    "prod_list=[i*j for i in u for j in v]\n",
    "print(np.array(prod_list).reshape(4,4), end=\"\\n\\n\")\n",
    "\n",
    "# 3)---------------------------------\n",
    "print(np.tile(u,(4,1))*np.tile(v,(4,1)).T)\n"
   ]
  },
  {
   "cell_type": "markdown",
   "metadata": {},
   "source": [
    "# 3\\.\n",
    "Create a 10 by 6 matrix of increasing float numbers, starting from zero and increasing in each step by 0.1, so the output matrix looks like the following:\n",
    "\n",
    "```python\n",
    "m = [[0. 0.1, 0.2 0.3 ... 0.9]\n",
    "     [1.0 1.1 1.2 1.3 ... 1.9]\n",
    "     ...\n",
    "     [5.0 5.1 5.2 5.3 ... 5.9]]\n",
    "```\n",
    "After creating the matrix, set all entries with a decimal part $< 0.4$ to zero."
   ]
  },
  {
   "cell_type": "code",
   "execution_count": 3,
   "metadata": {},
   "outputs": [
    {
     "name": "stdout",
     "output_type": "stream",
     "text": [
      "[[0.  0.1 0.2 0.3 0.4 0.5 0.6 0.7 0.8 0.9]\n",
      " [1.  1.1 1.2 1.3 1.4 1.5 1.6 1.7 1.8 1.9]\n",
      " [2.  2.1 2.2 2.3 2.4 2.5 2.6 2.7 2.8 2.9]\n",
      " [3.  3.1 3.2 3.3 3.4 3.5 3.6 3.7 3.8 3.9]\n",
      " [4.  4.1 4.2 4.3 4.4 4.5 4.6 4.7 4.8 4.9]\n",
      " [5.  5.1 5.2 5.3 5.4 5.5 5.6 5.7 5.8 5.9]]\n",
      "\n",
      "[[0.  0.  0.  0.  0.4 0.5 0.6 0.7 0.8 0.9]\n",
      " [1.  1.1 1.2 1.3 1.4 1.5 1.6 1.7 1.8 1.9]\n",
      " [2.  2.1 2.2 2.3 2.4 2.5 2.6 2.7 2.8 2.9]\n",
      " [3.  3.1 3.2 3.3 3.4 3.5 3.6 3.7 3.8 3.9]\n",
      " [4.  4.1 4.2 4.3 4.4 4.5 4.6 4.7 4.8 4.9]\n",
      " [5.  5.1 5.2 5.3 5.4 5.5 5.6 5.7 5.8 5.9]]\n"
     ]
    }
   ],
   "source": [
    "import numpy as np\n",
    "\n",
    "m= np.arange(0,6,0.1).reshape((6,10))\n",
    "print(m, end=\"\\n\\n\")\n",
    "\n",
    "m[m<0.4]=0\n",
    "print(m)"
   ]
  },
  {
   "cell_type": "markdown",
   "metadata": {},
   "source": [
    "# 4\\. \n",
    "Use `np.linspace` to create an array of 100 numbers between 0 and 2π (inclusive).\n",
    "\n",
    "  * Extract every 10th element using the slice notation\n",
    "  * Reverse the array using the slice notation\n",
    "  * Extract elements where the absolute difference between the sin and cos functions evaluated for that element is $< 0.1$\n",
    "  * **Optional**: make a plot showing the sin and cos functions and indicate where they are close"
   ]
  },
  {
   "cell_type": "code",
   "execution_count": 35,
   "metadata": {},
   "outputs": [
    {
     "name": "stdout",
     "output_type": "stream",
     "text": [
      "[0.         0.06346652 0.12693304 0.19039955 0.25386607 0.31733259\n",
      " 0.38079911 0.44426563 0.50773215 0.57119866 0.63466518 0.6981317\n",
      " 0.76159822 0.82506474 0.88853126 0.95199777 1.01546429 1.07893081\n",
      " 1.14239733 1.20586385 1.26933037 1.33279688 1.3962634  1.45972992\n",
      " 1.52319644 1.58666296 1.65012947 1.71359599 1.77706251 1.84052903\n",
      " 1.90399555 1.96746207 2.03092858 2.0943951  2.15786162 2.22132814\n",
      " 2.28479466 2.34826118 2.41172769 2.47519421 2.53866073 2.60212725\n",
      " 2.66559377 2.72906028 2.7925268  2.85599332 2.91945984 2.98292636\n",
      " 3.04639288 3.10985939 3.17332591 3.23679243 3.30025895 3.36372547\n",
      " 3.42719199 3.4906585  3.55412502 3.61759154 3.68105806 3.74452458\n",
      " 3.8079911  3.87145761 3.93492413 3.99839065 4.06185717 4.12532369\n",
      " 4.1887902  4.25225672 4.31572324 4.37918976 4.44265628 4.5061228\n",
      " 4.56958931 4.63305583 4.69652235 4.75998887 4.82345539 4.88692191\n",
      " 4.95038842 5.01385494 5.07732146 5.14078798 5.2042545  5.26772102\n",
      " 5.33118753 5.39465405 5.45812057 5.52158709 5.58505361 5.64852012\n",
      " 5.71198664 5.77545316 5.83891968 5.9023862  5.96585272 6.02931923\n",
      " 6.09278575 6.15625227 6.21971879 6.28318531]\n",
      "\n",
      "[0.         0.63466518 1.26933037 1.90399555 2.53866073 3.17332591\n",
      " 3.8079911  4.44265628 5.07732146 5.71198664]\n",
      "\n",
      "[6.28318531 6.21971879 6.15625227 6.09278575 6.02931923 5.96585272\n",
      " 5.9023862  5.83891968 5.77545316 5.71198664 5.64852012 5.58505361\n",
      " 5.52158709 5.45812057 5.39465405 5.33118753 5.26772102 5.2042545\n",
      " 5.14078798 5.07732146 5.01385494 4.95038842 4.88692191 4.82345539\n",
      " 4.75998887 4.69652235 4.63305583 4.56958931 4.5061228  4.44265628\n",
      " 4.37918976 4.31572324 4.25225672 4.1887902  4.12532369 4.06185717\n",
      " 3.99839065 3.93492413 3.87145761 3.8079911  3.74452458 3.68105806\n",
      " 3.61759154 3.55412502 3.4906585  3.42719199 3.36372547 3.30025895\n",
      " 3.23679243 3.17332591 3.10985939 3.04639288 2.98292636 2.91945984\n",
      " 2.85599332 2.7925268  2.72906028 2.66559377 2.60212725 2.53866073\n",
      " 2.47519421 2.41172769 2.34826118 2.28479466 2.22132814 2.15786162\n",
      " 2.0943951  2.03092858 1.96746207 1.90399555 1.84052903 1.77706251\n",
      " 1.71359599 1.65012947 1.58666296 1.52319644 1.45972992 1.3962634\n",
      " 1.33279688 1.26933037 1.20586385 1.14239733 1.07893081 1.01546429\n",
      " 0.95199777 0.88853126 0.82506474 0.76159822 0.6981317  0.63466518\n",
      " 0.57119866 0.50773215 0.44426563 0.38079911 0.31733259 0.25386607\n",
      " 0.19039955 0.12693304 0.06346652 0.        ]\n",
      "\n",
      "[0.76159822 0.82506474 3.87145761 3.93492413]\n",
      "\n"
     ]
    },
    {
     "data": {
      "image/png": "[encoded data removed]",
      "text/plain": [
       "<Figure size 432x288 with 1 Axes>"
      ]
     },
     "metadata": {
      "needs_background": "light"
     },
     "output_type": "display_data"
    }
   ],
   "source": [
    "import math \n",
    "import matplotlib.pyplot as plt \n",
    "\n",
    "\n",
    "n=np.linspace(0,2*math.pi,100)  #full array tra 0 e 2pi\n",
    "\n",
    "n1=n[::10]  #ogni 10 elementi\n",
    "n2=n[::-1]  #reverse\n",
    "n3=n[abs(np.sin(n)-np.cos(n))<0.1]  #cos - sin <0.1\n",
    "\n",
    "print(n,end=\"\\n\\n\")\n",
    "print(n1,end=\"\\n\\n\")\n",
    "print(n2,end=\"\\n\\n\")\n",
    "print(n3,end=\"\\n\\n\")\n",
    "\n",
    "\n",
    "%matplotlib inline     #plot        \n",
    "\n",
    "xs = np.linspace(0, 2*math.pi, 100)\n",
    "y_sin = np.sin(xs) \n",
    "y_cos = np.cos(xs) \n",
    "\n",
    "plt.plot(xs, y_sin);\n",
    "plt.plot(xs, y_cos);\n",
    "\n",
    "\n",
    "for xc in n3: plt.axvline(x=xc, color='green', linestyle='-')\n"
   ]
  },
  {
   "cell_type": "markdown",
   "metadata": {},
   "source": [
    "# 5\\. \n",
    "Create a matrix that shows the 10 by 10 multiplication table.\n",
    "\n",
    " * Find the trace of the matrix\n",
    " * Extract the anti-diagonal matrix (this should be ```array([10, 18, 24, 28, 30, 30, 28, 24, 18, 10])```)\n",
    " * Extract the diagonal offset by 1 upwards (this should be ```array([ 2,  6, 12, 20, 30, 42, 56, 72, 90])```)"
   ]
  },
  {
   "cell_type": "code",
   "execution_count": 8,
   "metadata": {},
   "outputs": [
    {
     "name": "stdout",
     "output_type": "stream",
     "text": [
      "[[  1   2   3   4   5   6   7   8   9  10]\n",
      " [  2   4   6   8  10  12  14  16  18  20]\n",
      " [  3   6   9  12  15  18  21  24  27  30]\n",
      " [  4   8  12  16  20  24  28  32  36  40]\n",
      " [  5  10  15  20  25  30  35  40  45  50]\n",
      " [  6  12  18  24  30  36  42  48  54  60]\n",
      " [  7  14  21  28  35  42  49  56  63  70]\n",
      " [  8  16  24  32  40  48  56  64  72  80]\n",
      " [  9  18  27  36  45  54  63  72  81  90]\n",
      " [ 10  20  30  40  50  60  70  80  90 100]]\n",
      "\n",
      "Traccia= 385\n",
      "\n",
      "Antidiagonale= [10 18 24 28 30 30 28 24 18 10]\n",
      "\n",
      "Diagonale+offset= [ 2  6 12 20 30 42 56 72 90]\n"
     ]
    }
   ],
   "source": [
    "import numpy as np\n",
    "\n",
    "m=np.tile(np.arange(1,11,1),(10,1))\n",
    "m=m*m.T\n",
    "\n",
    "print(m, end=\"\\n\\n\")\n",
    "\n",
    "print(\"Traccia= %u\"% m.trace())\n",
    "print()\n",
    "\n",
    "d=np.fliplr(m).diagonal()\n",
    "print(\"Antidiagonale= \"+str(d))\n",
    "print()\n",
    "\n",
    "d_off=np.diagonal(m, offset=1)\n",
    "print(\"Diagonale+offset= \"+str(d_off))"
   ]
  },
  {
   "cell_type": "markdown",
   "metadata": {},
   "source": [
    "# 6\\. Use broadcasting to create a grid of distances.\n",
    "\n",
    "Route 66 crosses the following cities in the US: Chicago, Springfield, Saint-Louis, Tulsa, Oklahoma City, Amarillo, Santa Fe, Albuquerque, Flagstaff, Los Angeles\n",
    "The corresponding positions in miles are: 0, 198, 303, 736, 871, 1175, 1475, 1544, 1913, 2448\n",
    "\n",
    "  * Build a 2D grid of distances among each city along Route 66\n",
    "  * Convert the distances in km"
   ]
  },
  {
   "cell_type": "code",
   "execution_count": 14,
   "metadata": {},
   "outputs": [
    {
     "name": "stdout",
     "output_type": "stream",
     "text": [
      "In miglia: \n",
      "[[    0  -198  -303  -736  -871 -1175 -1475 -1544 -1913 -2448]\n",
      " [  198     0  -105  -538  -673  -977 -1277 -1346 -1715 -2250]\n",
      " [  303   105     0  -433  -568  -872 -1172 -1241 -1610 -2145]\n",
      " [  736   538   433     0  -135  -439  -739  -808 -1177 -1712]\n",
      " [  871   673   568   135     0  -304  -604  -673 -1042 -1577]\n",
      " [ 1175   977   872   439   304     0  -300  -369  -738 -1273]\n",
      " [ 1475  1277  1172   739   604   300     0   -69  -438  -973]\n",
      " [ 1544  1346  1241   808   673   369    69     0  -369  -904]\n",
      " [ 1913  1715  1610  1177  1042   738   438   369     0  -535]\n",
      " [ 2448  2250  2145  1712  1577  1273   973   904   535     0]]\n",
      "\n",
      "\n",
      "In km: \n",
      "[[    0.    -318.65  -487.63 -1184.48 -1401.74 -1890.98 -2373.79 -2484.83\n",
      "  -3078.68 -3939.68]\n",
      " [  318.65     0.    -168.98  -865.83 -1083.09 -1572.33 -2055.14 -2166.18\n",
      "  -2760.03 -3621.03]\n",
      " [  487.63   168.98     0.    -696.85  -914.11 -1403.35 -1886.15 -1997.2\n",
      "  -2591.05 -3452.05]\n",
      " [ 1184.48   865.83   696.85     0.    -217.26  -706.5  -1189.31 -1300.35\n",
      "  -1894.2  -2755.2 ]\n",
      " [ 1401.74  1083.09   914.11   217.26     0.    -489.24  -972.05 -1083.09\n",
      "  -1676.94 -2537.94]\n",
      " [ 1890.98  1572.33  1403.35   706.5    489.24     0.    -482.8   -593.85\n",
      "  -1187.7  -2048.7 ]\n",
      " [ 2373.79  2055.14  1886.15  1189.31   972.05   482.8      0.    -111.04\n",
      "   -704.89 -1565.89]\n",
      " [ 2484.83  2166.18  1997.2   1300.35  1083.09   593.85   111.04     0.\n",
      "   -593.85 -1454.85]\n",
      " [ 3078.68  2760.03  2591.05  1894.2   1676.94  1187.7    704.89   593.85\n",
      "      0.    -861.  ]\n",
      " [ 3939.68  3621.03  3452.05  2755.2   2537.94  2048.7   1565.89  1454.85\n",
      "    861.       0.  ]]\n"
     ]
    }
   ],
   "source": [
    "pos=np.array([0, 198, 303, 736, 871, 1175, 1475, 1544, 1913, 2448])\n",
    "\n",
    "m=np.tile(pos,(np.shape(pos)[0],1)).T\n",
    "dist=m-pos\n",
    "\n",
    "print(\"In miglia: \")\n",
    "print(dist, end=\"\\n\\n\\n\")\n",
    "\n",
    "print(\"In km: \")\n",
    "print(np.around(dist/0.62137,2))"
   ]
  },
  {
   "cell_type": "markdown",
   "metadata": {},
   "source": [
    "# 7\\. Prime numbers sieve: compute the prime numbers in the 0-N (start with N=99) range with a sieve (mask).\n",
    "  * Check the performances (timeit); how does it scale with N?\n",
    "  * Implement the optimization suggested in the [sieve of Eratosthenes](https://en.wikipedia.org/wiki/Sieve_of_Eratosthenes)"
   ]
  },
  {
   "cell_type": "code",
   "execution_count": 4,
   "metadata": {},
   "outputs": [
    {
     "name": "stdout",
     "output_type": "stream",
     "text": [
      "Numeri primi n<100=\n",
      "[2, 3, 5, 7, 11, 13, 17, 19, 23, 29, 31, 37, 41, 43, 47, 53, 59, 61, 67, 71, 73, 79, 83, 89, 97]\n"
     ]
    }
   ],
   "source": [
    "import numpy as np\n",
    "import timeit\n",
    "import matplotlib.pyplot as plt\n",
    "import math\n",
    "\n",
    "\n",
    "def comp_time(f,n):                 #calcola il tempo di esecuzione di una funzione per il calcolo di n numeri\n",
    "    start = timeit.default_timer()\n",
    "    f(n)\n",
    "    stop = timeit.default_timer()\n",
    "    execution_time = stop - start\n",
    "    return execution_time\n",
    "\n",
    "\n",
    "def func1(n):                       #calcolo con list comprehension e mask su array\n",
    "    numeri=np.arange(1,n+1)\n",
    "    numeri_primi= [i for i in range(2,n) if np.sum(i%numeri==0) <3]\n",
    "    return numeri_primi\n",
    "\n",
    "\n",
    "def func2(n):                       #calcolo con broadcasting e funzioni numpy \n",
    "    numeri=np.arange(1,n+1)\n",
    "    div= np.tile(numeri,(n,1)).T % numeri==0\n",
    "    primi= np.sum(div, axis=1)<3\n",
    "    return(numeri[primi])\n",
    "\n",
    "\n",
    "def func_erat(n):                  #calcolo con il metodo di eratostene\n",
    "    mask=np.full(n,True)\n",
    "\n",
    "    for i in range(1,int(math.sqrt(n))):\n",
    "        if mask[i]==True :\n",
    "            for j in range(0,int(n/(i+1)-i)):\n",
    "                mask[(i+1)**2+j*(i+1)-1]=False\n",
    "                \n",
    "    return np.arange(1,n+1)[mask]\n",
    "\n",
    "\n",
    "\n",
    "print(\"Numeri primi n<100=\")            \n",
    "print(func1(99))\n"
   ]
  },
  {
   "cell_type": "code",
   "execution_count": 12,
   "metadata": {
    "scrolled": true
   },
   "outputs": [
    {
     "data": {
      "image/png": "[encoded data removed]",
      "text/plain": [
       "<Figure size 432x288 with 1 Axes>"
      ]
     },
     "metadata": {
      "needs_background": "light"
     },
     "output_type": "display_data"
    }
   ],
   "source": [
    "r=range(100,1000,100)\n",
    "\n",
    "time1=[ comp_time(func1,i) for i in r]\n",
    "time2=[ comp_time(func2,i) for i in r]\n",
    "time3=[ comp_time(func_erat,i) for i in r]\n",
    "\n",
    "plt.plot(r, time1, color=\"green\", label=\"list comp\");\n",
    "plt.plot(r, time2, color=\"red\", label=\"broadcasting\");\n",
    "plt.plot(r, time3, color=\"blue\", label=\"Eratostene\");\n",
    "\n",
    "plt.xlabel(\"N of points\")\n",
    "plt.ylabel(\"Time\")\n",
    "plt.legend(loc=\"upper left\")\n",
    "plt.show() "
   ]
  },
  {
   "cell_type": "code",
   "execution_count": null,
   "metadata": {},
   "outputs": [],
   "source": []
  }
 ],
 "metadata": {
  "kernelspec": {
   "display_name": "Python 3 (ipykernel)",
   "language": "python",
   "name": "python3"
  },
  "language_info": {
   "codemirror_mode": {
    "name": "ipython",
    "version": 3
   },
   "file_extension": ".py",
   "mimetype": "text/x-python",
   "name": "python",
   "nbconvert_exporter": "python",
   "pygments_lexer": "ipython3",
   "version": "3.9.7"
  }
 },
 "nbformat": 4,
 "nbformat_minor": 2
}

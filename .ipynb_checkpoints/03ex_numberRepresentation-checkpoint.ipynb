{
 "cells": [
  {
   "cell_type": "markdown",
   "metadata": {},
   "source": [
    "# 1\\. Conversion function\n",
    "Write a function that converts numbers among the bin, dec, and hex representations (bin<->dec<->hex)"
   ]
  },
  {
   "cell_type": "code",
   "execution_count": 1,
   "metadata": {},
   "outputs": [
    {
     "name": "stdout",
     "output_type": "stream",
     "text": [
      "[15, '0b1111', '0xf']\n",
      "[15, '0b1111', '0xf']\n",
      "[15, '0b1111', '0xf']\n"
     ]
    }
   ],
   "source": [
    "def converti(a):\n",
    "    conv_func=[int, bin, hex]\n",
    "    b=[f(a) for f in conv_func]\n",
    "    return b\n",
    "\n",
    "\n",
    "print(converti(0b1111))\n",
    "print(converti(15))\n",
    "print(converti(0xf))"
   ]
  },
  {
   "cell_type": "markdown",
   "metadata": {},
   "source": [
    "# 2\\. 32 bit float conversion\n",
    "Write a function that converts a 32 bit word into a single precision floating point (i.e. interprets the various bits as sign, mantissa and exponent) and check its validity."
   ]
  },
  {
   "cell_type": "code",
   "execution_count": 2,
   "metadata": {},
   "outputs": [
    {
     "name": "stdout",
     "output_type": "stream",
     "text": [
      "-3.140000104904175\n",
      "1.316553672920962e-36\n",
      "inserire numero corretto\n"
     ]
    }
   ],
   "source": [
    "\n",
    "def converti(a):\n",
    "    try:\n",
    "        sgn= +1 if a[0]==\"0\" else -1\n",
    "       \n",
    "       #esponente\n",
    "        exp=int(a[1:9],2) \n",
    "        exp-=127\n",
    "        \n",
    "       #mantissa\n",
    "        man=a[-23:]\n",
    "        t=[2**(-i-1)*int(man[i]) for i in range(len(man))]  #calcola potenze di 2\n",
    "        man=1+sum(t)\n",
    "        \n",
    "       #numero finale\n",
    "        num=man*(2**exp)*sgn\n",
    "        print(num)\n",
    "    \n",
    "    except: print(\"inserire numero corretto\")\n",
    " \n",
    "\n",
    "\n",
    "a=\"11000000010010001111010111000011\"\n",
    "b=\"00000011111000000000000000000000\"\n",
    "converti(a)\n",
    "converti(b)\n",
    "converti(\"ciao\")"
   ]
  },
  {
   "cell_type": "markdown",
   "metadata": {},
   "source": [
    "# 3\\. Underflow & overflow\n",
    "Write a program to determine the underflow and overflow limits (within a factor of 2) for python on your computer. \n",
    "\n",
    "**Tip**: define two variables initialized to 1 and halve/double them for a sufficient amount of times to exceed the under/over-flow limits  "
   ]
  },
  {
   "cell_type": "code",
   "execution_count": 7,
   "metadata": {},
   "outputs": [
    {
     "name": "stdout",
     "output_type": "stream",
     "text": [
      "Lower limit: \n",
      "5e-324\n",
      "Upper limit: \n",
      "8.98846567431158e+307\n"
     ]
    }
   ],
   "source": [
    "\n",
    "print(\"Lower limit: \")  # con denormalized numbers\n",
    "a=1.\n",
    "while True:          \n",
    "    if a/2>0 : a/=2  #cicla finché diverso da 0\n",
    "    else:\n",
    "        print(a)\n",
    "        break\n",
    "\n",
    "\n",
    "print(\"Upper limit: \")   \n",
    "b=1.\n",
    "while True:   #cicla finché minore di inf\n",
    "    if b*2 != float(\"inf\") : b*=2\n",
    "    else:\n",
    "        print(b)\n",
    "        break"
   ]
  },
  {
   "cell_type": "markdown",
   "metadata": {},
   "source": [
    "# 4\\. Write a program to determine the machine precision \n",
    "\n",
    "**Tip**: define a new variable by adding an increasingly smaller value (in the same way as the previous problem) and check when the addition starts to have no effect on the number"
   ]
  },
  {
   "cell_type": "code",
   "execution_count": 17,
   "metadata": {},
   "outputs": [
    {
     "name": "stdout",
     "output_type": "stream",
     "text": [
      "1.1102230246251565e-16\n",
      "\n",
      "sys.float_info(max=1.7976931348623157e+308, max_exp=1024, max_10_exp=308, min=2.2250738585072014e-308, min_exp=-1021, min_10_exp=-307, dig=15, mant_dig=53, epsilon=2.220446049250313e-16, radix=2, rounds=1)\n"
     ]
    }
   ],
   "source": [
    "a=1.\n",
    "b=1.\n",
    "while b.hex()!=(b+a).hex():\n",
    "    if a/2>0 : a/=2\n",
    "    else: break\n",
    "\n",
    "print(a)\n",
    "\n",
    "print()\n",
    "import sys\n",
    "print(sys.float_info)\n"
   ]
  },
  {
   "cell_type": "markdown",
   "metadata": {},
   "source": [
    "5\\. Write a function that takes in input three parameters $a$, $b$ and $c$ and prints out the two solutions to the quadratic equation $ax^2+bx+c=0$ using the standard formula:\n",
    "$$\n",
    "x=\\frac{-b\\pm\\sqrt{b^2-4ac}}{2a}\n",
    "$$\n",
    "\n",
    "(a) use the program to compute the solution for $a=0.001$, $b=1000$ and $c=0.001$\n",
    "\n",
    "(b) re-express the standard solution formula by multiplying the numerator and the denominator by $-b\\mp\\sqrt{b^2-4ac}$ and again find the solution for $a=0.001$, $b=1000$ and $c=0.001$. How does it compare with what has been previously obtained, and why?\n",
    "\n",
    "(c) write a function that computes the roots of a quadratic equation accurately in all cases"
   ]
  },
  {
   "cell_type": "code",
   "execution_count": 3,
   "metadata": {},
   "outputs": [
    {
     "name": "stdout",
     "output_type": "stream",
     "text": [
      "s1=-9.999894245993346e-07;\t s2=-999999.999999;\t s1*s2=0.9999894245983346\n",
      "s1=-1000010.5755125057;\t s2=-1.000000000001e-06;\t s1*s2=1.0000105755135058\n",
      "s1=-999999.999999;\t s2=-1.000000000001e-06;\t s1*s2=1.0\n"
     ]
    }
   ],
   "source": [
    "import math\n",
    "\n",
    "\"\"\" Sotto radice si sta facendo la differenza tra un numero molto grande (b^2) e uno molto piccolo (4ac), quindi il \n",
    "risultato è approssimabile a b. La soluzione del tipo -b+sqrt() è quindi una differenza tra due numeri molto simili,\n",
    "e ciò comporta i problemi di approssimazione maggiore, mentre la soluzione -b-sqrt() comporta un errore minore. \n",
    "Moltiplicando e dividendo numeratore e denominatore per il fattore indicato si può ricavare la soluzione -b+sqrt() del \n",
    "primo metodo riportandosi al conto di -b-sqrt(), che riduce l'errore. Per cui combinando le due soluzioni si ottiene \n",
    "il risultato corretto nel caso generale\"\"\"\n",
    "\n",
    "def sol1(a,b,c):   #Formula classica con numeratore/denominatore\n",
    "    n1=-b + math.sqrt(b**2-4*a*c)\n",
    "    n2=-b - math.sqrt(b**2-4*a*c)\n",
    "    d=(2*a)\n",
    "    return [n1/d,n2/d]\n",
    "\n",
    "def sol2(a,b,c):  #Prodotto di -b-+sqrt(b^2-4ac) calcolato analiticamente\n",
    "    n= 2*c\n",
    "    d1=(-b + math.sqrt(b**2-4*a*c))\n",
    "    d2=(-b - math.sqrt(b**2-4*a*c))\n",
    "    return [n/d1,n/d2]\n",
    "\n",
    "def sol3(a,b,c):    #Metodo corretto: scelta di un risultato da sol1 e uno da sol2\n",
    "    return[sol1(a,b,c)[1],sol2(a,b,c)[1]]\n",
    "\n",
    "\n",
    "\n",
    "a=0.001\n",
    "b=1000\n",
    "c=0.001\n",
    "\n",
    "sol=[sol1,sol2,sol3]\n",
    "    \n",
    "for s in sol:\n",
    "    s_1=s(a,b,c)[0]\n",
    "    s_2=s(a,b,c)[1]\n",
    "    print(\"s1=\"+str(s_1)+\";\\t s2=\"+str(s_2)+ \";\\t s1*s2=\"+str(s_1*s_2)) #Come controllo s1*s2 = c/a = 1\n",
    "        \n"
   ]
  },
  {
   "cell_type": "markdown",
   "metadata": {},
   "source": [
    "$$ Sol1= \\frac{-b\\pm \\sqrt{b^2-4ac}}{2a}$$\n",
    "$$ Sol2= \\frac{2c}{-b\\mp \\sqrt{b^2-4ac}}$$\n",
    "$$ Sol3= \\frac{-b - \\sqrt{b^2-4ac}}{2a} \\, and \\, \\frac{2c}{-b - \\sqrt{b^2-4ac}}$$\n"
   ]
  },
  {
   "cell_type": "markdown",
   "metadata": {},
   "source": [
    "# 6\\. Write a program that implements the function $f(x)=x(x−1)$\n",
    "\n",
    "(a) Calculate the derivative of the function at the point $x = 1$ using the derivative definition:\n",
    "\n",
    "$$\n",
    "\\frac{{\\rm d}f}{{\\rm d}x} = \\lim_{\\delta\\to0} \\frac{f(x+\\delta)-f(x)}{\\delta}\n",
    "$$\n",
    "\n",
    "with $\\delta = 10^{−2}$. Calculate the true value of the same derivative analytically and compare it with the answer your program gives. The two will not agree perfectly. Why?\n",
    "\n",
    "(b) Repeat the calculation for $\\delta = 10^{−4}, 10^{−6}, 10^{−8}, 10^{−10}, 10^{−12}$ and $10^{−14}$. How does the accuracy scales with $\\delta$?"
   ]
  },
  {
   "cell_type": "code",
   "execution_count": 6,
   "metadata": {},
   "outputs": [
    {
     "name": "stdout",
     "output_type": "stream",
     "text": [
      "Derivata python= 1.010000000000001\n",
      "Derivata analitica= 1\n",
      "I risultati sono diversi sia a causa del round off error del valore float d,\n",
      "e principalmente dal suo valore che rappresenta un incremento relativamente grande\n",
      "\n",
      "d= 0.01; derivata= 1.0100000000; accuratezza= 0.010000000000000897\n",
      "d= 0.0001; derivata= 1.0001000000; accuratezza= 9.999999988985486e-05\n",
      "d= 1e-06; derivata= 1.0000009999; accuratezza= 9.99917733279787e-07\n",
      "d= 1e-08; derivata= 1.0000000039; accuratezza= 3.922528746258536e-09\n",
      "d= 1e-10; derivata= 1.0000000828; accuratezza= 8.284037100736441e-08\n",
      "d= 1e-12; derivata= 1.0000889006; accuratezza= 8.890058334132256e-05\n",
      "d= 1e-14; derivata= 0.9992007222; accuratezza= 0.0007992778373491216\n",
      "\n",
      "L'accuratezza diventa migliore diminuendo il valore dell'incremento delta fino al \n",
      "valore di 10^-8, ovvero sqrt(epsilon) dove epsilon è l'errore della macchina nell'approssimazione \n",
      "dei float, per poi aumentare anche diminuendo ulteriormente l'incremento.\n"
     ]
    }
   ],
   "source": [
    "\n",
    "def f(x):          #funzione f=x*(x-1)\n",
    "    return x*(x-1)\n",
    "\n",
    "def derivata(z,d):         #calcolo della derivata \n",
    "    return (f(z+d)-f(z))/d\n",
    "\n",
    "# a)---------------------------------------------------------------------------------------\n",
    "z=1.\n",
    "d=10**(-2)\n",
    "\n",
    "print(\"Derivata python= \"+str(derivata(z,d)))\n",
    "print(\"Derivata analitica= 1\")\n",
    "print(\"I risultati sono diversi sia a causa del round off error del valore float d,\\n\\\n",
    "e principalmente dal suo valore che rappresenta un incremento relativamente grande\")\n",
    "\n",
    "# b)---------------------------------------------------------------------------------------\n",
    "print()\n",
    "for i in range(1,8):\n",
    "    d=10**(-i*2)\n",
    "    print(\"d= \"+format(d) + \"; derivata= %2.10f\"%derivata(z,d)+ \"; accuratezza= \"+format(abs(1-derivata(z,d))))\n",
    "    \n",
    "print()\n",
    "print(\"L'accuratezza diventa migliore diminuendo il valore dell'incremento delta fino al \\n\\\n",
    "valore di 10^-8, ovvero sqrt(epsilon) dove epsilon è l'errore della macchina nell'approssimazione \\n\\\n",
    "dei float, per poi aumentare anche diminuendo ulteriormente l'incremento.\")\n",
    "\n"
   ]
  },
  {
   "cell_type": "markdown",
   "metadata": {},
   "source": [
    "# 7\\. Integral of the semicircle of radius 1:\n",
    "$$\n",
    "I=\\int_{-1}^{1} \\sqrt(1-x^2) {\\rm d}x\n",
    "$$\n",
    "which is known to be $I=\\frac{\\pi}{2}=1.57079632679...$.\n",
    "\n",
    "Alternatively we can use the Riemann definition of the integral:\n",
    "$$\n",
    "I=\\lim_{N\\to\\infty} \\sum_{k=1}^{N} h y_k \n",
    "$$\n",
    "\n",
    "with $h=2/N$ the width of each of the $N$ slices the domain is divided into and where\n",
    "$y_k$ is the value of the function at the $k-$th slice.\n",
    "\n",
    "(a) Write a program to compute the integral with $N=100$. How does the result compare to the true value?\n",
    "\n",
    "(b) How much can $N$ be increased if the computation needs to be run in less than a second? What is the gain in running it for 1 minute? \n"
   ]
  },
  {
   "cell_type": "code",
   "execution_count": 31,
   "metadata": {},
   "outputs": [
    {
     "name": "stdout",
     "output_type": "stream",
     "text": [
      "N= 100\n",
      "Computed integral value: 1.569134\n",
      "True integral value: 1.570796\n",
      "Relative error: 0.001058\n"
     ]
    }
   ],
   "source": [
    "#a)-----------------------\n",
    "import math\n",
    "\n",
    "def semic(x):\n",
    "    return math.sqrt(1-x**2)\n",
    "\n",
    "def integral(N,f,a,b):\n",
    "    sum=0\n",
    "    for i in range(N+1):\n",
    "        sum+= (2/N)*f(a+2*i/N)\n",
    "    \n",
    "    return sum\n",
    "   \n",
    "   \n",
    "print(\"N= 100\")\n",
    "print(\"Computed integral value: %f\"%integral(100,semic,-1,1))\n",
    "print(\"True integral value: %f\"% (math.pi/2))\n",
    "print(\"Relative error: %f\"% abs(integral(100,semic,-1,1)/(math.pi/2)-1))"
   ]
  },
  {
   "cell_type": "code",
   "execution_count": 20,
   "metadata": {},
   "outputs": [
    {
     "name": "stdout",
     "output_type": "stream",
     "text": [
      "70.6 µs ± 1.1 µs per loop (mean ± std. dev. of 7 runs, 10000 loops each)\n",
      "908 ms ± 17.4 ms per loop (mean ± std. dev. of 7 runs, 1 loop each)\n"
     ]
    }
   ],
   "source": [
    "%timeit integral(100,semic,-1,1)\n",
    "%timeit integral(1300000,semic,-1,1) #N può essere aumentata anche di 4 ordini di grandezza stando sotto ad un secondo di esecuzione"
   ]
  },
  {
   "cell_type": "code",
   "execution_count": 27,
   "metadata": {},
   "outputs": [
    {
     "name": "stdout",
     "output_type": "stream",
     "text": [
      "N= 1300000, 1 sec di esecuzione\n",
      "Computed integral value: 1.5707963256729667\n",
      "True integral value: 1.5707963267948966\n",
      "Relative error: 7.142427760342684e-10\n"
     ]
    }
   ],
   "source": [
    "print(\"N= 1300000, 1 sec di esecuzione\")\n",
    "print(\"Computed integral value: \"+format(integral(1300000,semic,-1,1)))\n",
    "print(\"True integral value: \" +format((math.pi/2)))\n",
    "print(\"Relative error: \" +format(abs(integral(1300000,semic,-1,1)/(math.pi/2)-1))) "
   ]
  },
  {
   "cell_type": "code",
   "execution_count": null,
   "metadata": {},
   "outputs": [],
   "source": []
  }
 ],
 "metadata": {
  "kernelspec": {
   "display_name": "Python 3 (ipykernel)",
   "language": "python",
   "name": "python3"
  },
  "language_info": {
   "codemirror_mode": {
    "name": "ipython",
    "version": 3
   },
   "file_extension": ".py",
   "mimetype": "text/x-python",
   "name": "python",
   "nbconvert_exporter": "python",
   "pygments_lexer": "ipython3",
   "version": "3.9.7"
  }
 },
 "nbformat": 4,
 "nbformat_minor": 2
}

{
 "cells": [
  {
   "cell_type": "markdown",
   "metadata": {},
   "source": [
    "# 1. The HelloWorld replacement\n",
    "\n",
    "a) Write a program that prints the numbers from 1 to 100. But for multiples of three print \"Hello\" instead of the number and for the multiples of five print \"World\". For numbers which are multiples of both three and five print \"HelloWorld\".\n",
    "\n",
    "b) Put the result in a tuple and substitute \"Hello\" with \"Python\" and \"World\" with \"Works\"."
   ]
  },
  {
   "cell_type": "code",
   "execution_count": 1,
   "metadata": {
    "scrolled": true
   },
   "outputs": [
    {
     "name": "stdout",
     "output_type": "stream",
     "text": [
      "1\n",
      "2\n",
      "Hello\n",
      "4\n",
      "World\n",
      "Hello\n",
      "7\n",
      "8\n",
      "Hello\n",
      "World\n",
      "11\n",
      "Hello\n",
      "13\n",
      "14\n",
      "HelloWorld\n",
      "16\n",
      "17\n",
      "Hello\n",
      "19\n",
      "World\n",
      "Hello\n",
      "22\n",
      "23\n",
      "Hello\n",
      "World\n",
      "26\n",
      "Hello\n",
      "28\n",
      "29\n",
      "HelloWorld\n",
      "31\n",
      "32\n",
      "Hello\n",
      "34\n",
      "World\n",
      "Hello\n",
      "37\n",
      "38\n",
      "Hello\n",
      "World\n",
      "41\n",
      "Hello\n",
      "43\n",
      "44\n",
      "HelloWorld\n",
      "46\n",
      "47\n",
      "Hello\n",
      "49\n",
      "World\n",
      "Hello\n",
      "52\n",
      "53\n",
      "Hello\n",
      "World\n",
      "56\n",
      "Hello\n",
      "58\n",
      "59\n",
      "HelloWorld\n",
      "61\n",
      "62\n",
      "Hello\n",
      "64\n",
      "World\n",
      "Hello\n",
      "67\n",
      "68\n",
      "Hello\n",
      "World\n",
      "71\n",
      "Hello\n",
      "73\n",
      "74\n",
      "HelloWorld\n",
      "76\n",
      "77\n",
      "Hello\n",
      "79\n",
      "World\n",
      "Hello\n",
      "82\n",
      "83\n",
      "Hello\n",
      "World\n",
      "86\n",
      "Hello\n",
      "88\n",
      "89\n",
      "HelloWorld\n",
      "91\n",
      "92\n",
      "Hello\n",
      "94\n",
      "World\n",
      "Hello\n",
      "97\n",
      "98\n",
      "Hello\n",
      "World\n"
     ]
    }
   ],
   "source": [
    "for x in range(1,101):\n",
    "    if(x%3==0 and x%5==0) : print(\"HelloWorld\")\n",
    "    elif(x%3==0) : print(\"Hello\")\n",
    "    elif(x%5==0) : print(\"World\")\n",
    "    else : print(x)"
   ]
  },
  {
   "cell_type": "code",
   "execution_count": 2,
   "metadata": {},
   "outputs": [
    {
     "name": "stdout",
     "output_type": "stream",
     "text": [
      "(1, 2, 'Phyton', 4, 'Works', 'Phyton', 7, 8, 'Phyton', 'Works', 11, 'Phyton', 13, 14, 'HelloWorld', 16, 17, 'Phyton', 19, 'Works', 'Phyton', 22, 23, 'Phyton', 'Works', 26, 'Phyton', 28, 29, 'HelloWorld', 31, 32, 'Phyton', 34, 'Works', 'Phyton', 37, 38, 'Phyton', 'Works', 41, 'Phyton', 43, 44, 'HelloWorld', 46, 47, 'Phyton', 49, 'Works', 'Phyton', 52, 53, 'Phyton', 'Works', 56, 'Phyton', 58, 59, 'HelloWorld', 61, 62, 'Phyton', 64, 'Works', 'Phyton', 67, 68, 'Phyton', 'Works', 71, 'Phyton', 73, 74, 'HelloWorld', 76, 77, 'Phyton', 79, 'Works', 'Phyton', 82, 83, 'Phyton', 'Works', 86, 'Phyton', 88, 89, 'HelloWorld', 91, 92, 'Phyton', 94, 'Works', 'Phyton', 97, 98, 'Phyton', 'Works')\n"
     ]
    }
   ],
   "source": [
    "tupla = ()\n",
    "\n",
    "for x in range(1,101):\n",
    "    if(x%3==0 and x%5==0) : tupla+=(\"HelloWorld\",)\n",
    "    elif(x%3==0) : tupla+=(\"Hello\",)\n",
    "    elif(x%5==0) : tupla+=(\"World\",)\n",
    "    else : tupla+=(x,)\n",
    "\n",
    "    \n",
    "tupla2 = ()         #creazione di una nuova tupla \n",
    "\n",
    "for x in range(0, len(tupla)):\n",
    "    if(tupla[x]==\"Hello\"): tupla2+=(\"Phyton\",)\n",
    "    elif(tupla[x]==\"World\"): tupla2+=(\"Works\",)\n",
    "    else: tupla2+=(tupla[x],)\n",
    "\n",
    "print(tupla2)"
   ]
  },
  {
   "cell_type": "markdown",
   "metadata": {},
   "source": [
    "# 2\\. The swap function\n",
    "\n",
    "Write a function that swap the values of two input variables x and y (whatever the type). Try to do that also without a temporary variable"
   ]
  },
  {
   "cell_type": "code",
   "execution_count": 6,
   "metadata": {},
   "outputs": [
    {
     "name": "stdout",
     "output_type": "stream",
     "text": [
      "1  <->  a\n",
      "a  <->  1\n",
      "1  <->  a\n"
     ]
    }
   ],
   "source": [
    "a=\"a\"\n",
    "b=1\n",
    "\n",
    "def swap0(a,b):   #con variabile ausiliria\n",
    "    c=a\n",
    "    a=b\n",
    "    b=c\n",
    "    return(a,b)\n",
    "\n",
    "a,b=swap0(a,b)\n",
    "print(a,\" <-> \",b)\n",
    "\n",
    "#-------------------------------\n",
    "\n",
    "def swap1 (a,b) :    #senza variabile ausiliaria \n",
    "     return(b,a)\n",
    "    \n",
    "a,b=swap1(a,b)\n",
    "print(a,\" <-> \",b)\n",
    "\n",
    "#-------------------------------\n",
    "\n",
    "def swap2(a,b):\n",
    "    b,a = a,b\n",
    "    return(a,b)\n",
    "\n",
    "a,b=swap0(a,b)\n",
    "print(a,\" <-> \",b)\n"
   ]
  },
  {
   "cell_type": "markdown",
   "metadata": {},
   "source": [
    "# 3\\. Computing the distance\n",
    "\n",
    "Write a function that calculates and returns the euclidean distance between two points *u* and *v*, where *u* and *v* are both 2-tuples *(x,y)*. For example, if *u=(3,0)* and *v=(0,4)*, the function should return 5"
   ]
  },
  {
   "cell_type": "code",
   "execution_count": 12,
   "metadata": {},
   "outputs": [
    {
     "name": "stdout",
     "output_type": "stream",
     "text": [
      "2.8284271247461903\n",
      "Inserire input corretto\n"
     ]
    }
   ],
   "source": [
    "import math\n",
    "\n",
    "def distance(a,b):\n",
    "    try:\n",
    "        return( math.sqrt((a[0]-b[0])**2 + (a[1]-b[1])**2))\n",
    "    except:\n",
    "        return \"Inserire input corretto\"\n",
    "\n",
    "a=(1,2)\n",
    "b=(3,4)\n",
    "print(distance(a,b))\n",
    "\n",
    "c=\"stringa\"\n",
    "print(distance(a,c))"
   ]
  },
  {
   "cell_type": "markdown",
   "metadata": {},
   "source": [
    "# 4\\. Counting letters\n",
    "\n",
    "Write a program to calculate the number of times each character occurs in a given string *s*. Ignore differences in capitalization"
   ]
  },
  {
   "cell_type": "code",
   "execution_count": 2,
   "metadata": {},
   "outputs": [
    {
     "name": "stdout",
     "output_type": "stream",
     "text": [
      "r : 19\n",
      "a : 7\n",
      "v : 2\n",
      "s : 7\n",
      "m : 8\n",
      "d : 5\n",
      "g : 1\n",
      "f : 10\n",
      "p : 8\n",
      "b : 5\n",
      "o : 15\n",
      "t : 19\n",
      "u : 7\n",
      "e : 20\n",
      "l : 12\n",
      "i : 12\n",
      "h : 11\n",
      "c : 1\n",
      "0 : 2\n",
      ". : 3\n",
      "  : 41\n",
      "1 : 2\n",
      "n : 10\n",
      "w : 4\n",
      "\n",
      "{'W': 3, 'r': 19, 'i': 12, 't': 19, 'e': 20, ' ': 41, 'a': 7, 'p': 8, 'o': 15, 'g': 1, 'm': 8, 'h': 9, 'n': 10, 's': 7, 'u': 7, 'b': 4, 'f': 9, '1': 2, '0': 2, '.': 3, 'B': 1, 'l': 12, 'H': 2, 'd': 5, 'v': 2, 'F': 1, 'w': 1, 'c': 1}\n"
     ]
    }
   ],
   "source": [
    "s = \"Write a program that prints the numbers from 1 to 100. \\\n",
    "But for multiples of three print Hello instead of the number and for the multiples of five print World. \\\n",
    "For numbers which are multiples of both three and five print HelloWorld.\"\n",
    "\n",
    "#----------soluzione 1---------------\n",
    "l = list({x for x in s.lower()})\n",
    "\n",
    "for i in range(0,len(l)) :\n",
    "    n= s.lower().count(l[i])\n",
    "    print( \"%s : %u\" %( l[i], n) )\n",
    "\n",
    "print(\"\")\n",
    "    \n",
    "#----------soluzione 2---------------\n",
    "caratteri = {i:s.count(i) for i in s}\n",
    "print(caratteri)"
   ]
  },
  {
   "cell_type": "markdown",
   "metadata": {},
   "source": [
    "# 5\\. Isolating the unique\n",
    "\n",
    "Write a function that determines and count the unique numbers in the list:"
   ]
  },
  {
   "cell_type": "code",
   "execution_count": 7,
   "metadata": {},
   "outputs": [
    {
     "name": "stdout",
     "output_type": "stream",
     "text": [
      "[58, 74, 96, 64, 10, 24, 19, 33, 86, 99, 18, 47, 88, 55, 54, 8, 79, 81, 57, 37, 1, 9, 95, 90, 98, 39, 16, 82, 92, 41, 30, 94, 5, 72, 87, 75, 53]\n",
      "Numero di singoli= 37\n"
     ]
    }
   ],
   "source": [
    "l = [36, 45, 58, 3, 74, 96, 64, 45, 31, 10, 24, 19, 33, 86, 99, 18, 63, 70, 85,\n",
    " 85, 63, 47, 56, 42, 70, 84, 88, 55, 20, 54, 8, 56, 51, 79, 81, 57, 37, 91,\n",
    " 1, 84, 84, 36, 66, 9, 89, 50, 42, 91, 50, 95, 90, 98, 39, 16, 82, 31, 92, 41,\n",
    " 45, 30, 66, 70, 34, 85, 94, 5, 3, 36, 72, 91, 84, 34, 87, 75, 53, 51, 20, 89, 51, 20]\n",
    "\n",
    "\n",
    "def conta_unici(s):\n",
    "    try:  \n",
    "        unici=[]\n",
    "        for i in s :\n",
    "            if s.count(i)==1 : unici.append(i)\n",
    "            \n",
    "        return(unici)\n",
    "    \n",
    "    except: return \"Inserire lista di numeri valida\"\n",
    "    \n",
    "    \n",
    "#----------------------versione 2----------------------------\n",
    "def conta_unici0(s):\n",
    "    num=0\n",
    "    unici=[]\n",
    "    try:\n",
    "        for i in range(0,len(s)):    #scorre tutta la lista\n",
    "            count=0\n",
    "            for j in range(0,len(s)):\n",
    "                if s[i]==s[j]: count+=1   #controlla per doppioni\n",
    "            \n",
    "            if count==1:\n",
    "                num+=1\n",
    "                unici.append(s[i])\n",
    "                \n",
    "        return unici\n",
    "    \n",
    "    except: return \"Inserire lista di numeri valida\"\n",
    "#-------------------------------------------------------------\n",
    "        \n",
    "        \n",
    "lista_unici=conta_unici(l)\n",
    "print(lista_unici)\n",
    "if lista_unici!=\"Inserire lista di numeri valida\":\n",
    "    print(\"Numero di singoli= %u\"%len(lista_unici))"
   ]
  },
  {
   "cell_type": "markdown",
   "metadata": {},
   "source": [
    "Do the same without using user-defined functions, but exploiting only the Python data structures."
   ]
  },
  {
   "cell_type": "code",
   "execution_count": 6,
   "metadata": {},
   "outputs": [
    {
     "name": "stdout",
     "output_type": "stream",
     "text": [
      "[58, 74, 96, 64, 10, 24, 19, 33, 86, 99, 18, 47, 88, 55, 54, 8, 79, 81, 57, 37, 1, 9, 95, 90, 98, 39, 16, 82, 92, 41, 30, 94, 5, 72, 87, 75, 53]\n",
      "Numero di singoli= 37\n"
     ]
    }
   ],
   "source": [
    "l = [36, 45, 58, 3, 74, 96, 64, 45, 31, 10, 24, 19, 33, 86, 99, 18, 63, 70, 85,\n",
    " 85, 63, 47, 56, 42, 70, 84, 88, 55, 20, 54, 8, 56, 51, 79, 81, 57, 37, 91,\n",
    " 1, 84, 84, 36, 66, 9, 89, 50, 42, 91, 50, 95, 90, 98, 39, 16, 82, 31, 92, 41,\n",
    " 45, 30, 66, 70, 34, 85, 94, 5, 3, 36, 72, 91, 84, 34, 87, 75, 53, 51, 20, 89, 51, 20]\n",
    "\n",
    "\n",
    "l_dic = {i:l.count(i) for i in l}     #crea un dictionary dalla lista l\n",
    "unici = [i for i in l_dic if l_dic[i]==1]    #seleziona e mette in una lista se il numero di occorrenza è 1 \n",
    "\n",
    "print(unici)\n",
    "print(\"Numero di singoli= %u\" % len(unici))"
   ]
  },
  {
   "cell_type": "markdown",
   "metadata": {},
   "source": [
    " # 6\\. Combination of functions\n",
    "\n",
    "Write two functions - one that returns the square of a number, and one that returns the cube. Now write a third function that returns the number raised to the 6th power using the two previous functions."
   ]
  },
  {
   "cell_type": "code",
   "execution_count": 8,
   "metadata": {},
   "outputs": [
    {
     "name": "stdout",
     "output_type": "stream",
     "text": [
      "9\n",
      "27\n",
      "729\n"
     ]
    }
   ],
   "source": [
    "def square(a):\n",
    "    try: return a**2\n",
    "    except: return \"Inserire numero corretto\"\n",
    "\n",
    "def cube(a):\n",
    "    try: return a**3\n",
    "    except: return \"Inserire numero corretto\"\n",
    "    \n",
    "def power6(a):\n",
    "    try: return square(cube(a))\n",
    "    except: return \"Inserire numero corretto\"\n",
    "    \n",
    "\n",
    "print(square(3))\n",
    "print(cube(3))\n",
    "print(power6(3))"
   ]
  },
  {
   "cell_type": "markdown",
   "metadata": {},
   "source": [
    "# 7\\. Cubes\n",
    "\n",
    "Create a list of the cubes of x for x in *[0, 10]* using:\n",
    "\n",
    "a) a for loop\n",
    "\n",
    "b) a list comprehension"
   ]
  },
  {
   "cell_type": "code",
   "execution_count": 9,
   "metadata": {},
   "outputs": [
    {
     "name": "stdout",
     "output_type": "stream",
     "text": [
      "[0, 1, 8, 27, 64, 125, 216, 343, 512, 729, 1000]\n",
      "[0, 1, 8, 27, 64, 125, 216, 343, 512, 729, 1000]\n"
     ]
    }
   ],
   "source": [
    "lista_cubi=[]\n",
    "\n",
    "for i in range(0,11):\n",
    "    lista_cubi.append(i**3)\n",
    "    \n",
    "print(lista_cubi)\n",
    "\n",
    "\n",
    "lista_cubi_2 = [i**3 for i in range(0,11)]\n",
    "\n",
    "print(lista_cubi_2)"
   ]
  },
  {
   "cell_type": "markdown",
   "metadata": {},
   "source": [
    "# 8\\. Nested list comprehension\n",
    "\n",
    "A Pythagorean triple is an integer solution to the Pythagorean theorem $a^2+b^2=c^2$. The first Pythagorean triple is (3,4,5). Find and put in a tuple all unique Pythagorean triples for the positive integers a, b and c less than 100."
   ]
  },
  {
   "cell_type": "code",
   "execution_count": 12,
   "metadata": {},
   "outputs": [
    {
     "name": "stdout",
     "output_type": "stream",
     "text": [
      "((3, 4, 5), (5, 12, 13), (6, 8, 10), (7, 24, 25), (8, 15, 17), (9, 12, 15), (9, 40, 41), (10, 24, 26), (11, 60, 61), (12, 16, 20), (12, 35, 37), (13, 84, 85), (14, 48, 50), (15, 20, 25), (15, 36, 39), (16, 30, 34), (16, 63, 65), (18, 24, 30), (18, 80, 82), (20, 21, 29), (20, 48, 52), (21, 28, 35), (21, 72, 75), (24, 32, 40), (24, 45, 51), (24, 70, 74), (25, 60, 65), (27, 36, 45), (28, 45, 53), (28, 96, 100), (30, 40, 50), (30, 72, 78), (32, 60, 68), (33, 44, 55), (33, 56, 65), (35, 84, 91), (36, 48, 60), (36, 77, 85), (39, 52, 65), (39, 80, 89), (40, 42, 58), (40, 75, 85), (42, 56, 70), (45, 60, 75), (48, 55, 73), (48, 64, 80), (51, 68, 85), (54, 72, 90), (57, 76, 95), (60, 63, 87), (60, 80, 100), (65, 72, 97))\n",
      "\n",
      "((3, 4, 5), (5, 12, 13), (6, 8, 10), (7, 24, 25), (8, 15, 17), (9, 12, 15), (9, 40, 41), (10, 24, 26), (11, 60, 61), (12, 16, 20), (12, 35, 37), (13, 84, 85), (14, 48, 50), (15, 20, 25), (15, 36, 39), (16, 30, 34), (16, 63, 65), (18, 24, 30), (18, 80, 82), (20, 21, 29), (20, 48, 52), (21, 28, 35), (21, 72, 75), (24, 32, 40), (24, 45, 51), (24, 70, 74), (25, 60, 65), (27, 36, 45), (28, 45, 53), (28, 96, 100), (30, 40, 50), (30, 72, 78), (32, 60, 68), (33, 44, 55), (33, 56, 65), (35, 84, 91), (36, 48, 60), (36, 77, 85), (39, 52, 65), (39, 80, 89), (40, 42, 58), (40, 75, 85), (42, 56, 70), (45, 60, 75), (48, 55, 73), (48, 64, 80), (51, 68, 85), (54, 72, 90), (57, 76, 95), (60, 63, 87), (60, 80, 100), (65, 72, 97))\n"
     ]
    }
   ],
   "source": [
    "\n",
    "#------------Soluzione brute force--------------------\n",
    "import math\n",
    "\n",
    "pyt_trip=[]\n",
    "\n",
    "for a in range(1,101):\n",
    "    for b in range(a,101):\n",
    "        for c in range(max(a,b),101):\n",
    "            if a**2+b**2==c**2 : pyt_trip.append((a,b,c))\n",
    "        \n",
    "tupla_pt=tuple(pyt_trip)\n",
    "print(tupla_pt)\n",
    "\n",
    "print()\n",
    "\n",
    "#------------Soluzione list comprehension--------------------\n",
    "\n",
    "tupla= tuple((a,b,c) for a in range(1,101) for b in range(a,101) for c in range(max(a,b),101) if a**2+b**2==c**2)\n",
    "print(tupla)\n"
   ]
  },
  {
   "cell_type": "markdown",
   "metadata": {},
   "source": [
    "# 9\\. Normalization\n",
    "\n",
    "Write a function that takes a tuple of numbers and returns it with the entries normalized to one"
   ]
  },
  {
   "cell_type": "code",
   "execution_count": 13,
   "metadata": {},
   "outputs": [
    {
     "name": "stdout",
     "output_type": "stream",
     "text": [
      "(0.2672612419124244, 0.5345224838248488, 0.8017837257372732)\n"
     ]
    }
   ],
   "source": [
    "import math\n",
    "\n",
    "def normalizza(a):\n",
    "    norm=math.sqrt(sum([x**2 for x in a]))\n",
    "    return tuple(x/norm for x in a)\n",
    "\n",
    "\n",
    "a= (1,2,3)\n",
    "print(normalizza(a))\n",
    "\n"
   ]
  },
  {
   "cell_type": "code",
   "execution_count": null,
   "metadata": {},
   "outputs": [],
   "source": []
  }
 ],
 "metadata": {
  "kernelspec": {
   "display_name": "Python 3 (ipykernel)",
   "language": "python",
   "name": "python3"
  },
  "language_info": {
   "codemirror_mode": {
    "name": "ipython",
    "version": 3
   },
   "file_extension": ".py",
   "mimetype": "text/x-python",
   "name": "python",
   "nbconvert_exporter": "python",
   "pygments_lexer": "ipython3",
   "version": "3.9.7"
  }
 },
 "nbformat": 4,
 "nbformat_minor": 2
}
